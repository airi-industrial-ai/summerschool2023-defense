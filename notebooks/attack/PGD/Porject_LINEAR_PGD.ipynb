{
 "cells": [
  {
   "cell_type": "code",
   "execution_count": 3,
   "id": "e22b5c31",
   "metadata": {},
   "outputs": [],
   "source": [
    "import wandb\n",
    "from fddbenchmark import FDDDataset, FDDDataloader, FDDEvaluator\n",
    "from fdd_defense.attacks import FGSMAttack, PGDAttack, DeepfoolLinfAttack, NoiseAttack\n",
    "from fdd_defense.models.base import BaseTorchModel\n",
    "from fdd_defense.models import LinearModel\n",
    "import torch. nn as nn\n",
    "from torch.optim import Adam\n",
    "import torch\n",
    "import torch.nn.functional as F\n",
    "import pandas as pd\n",
    "from sklearn.preprocessing import StandardScaler\n",
    "import numpy as np\n",
    "import matplotlib.pyplot as plt\n",
    "from fdd_defense.defenders import DistillationDefender, QuantizationDefender, AdversarialTrainingDefender"
   ]
  },
  {
   "cell_type": "code",
   "execution_count": 4,
   "id": "36842359",
   "metadata": {},
   "outputs": [
    {
     "name": "stderr",
     "output_type": "stream",
     "text": [
      "Reading data/small_tep/dataset.csv: 100%|██████████████████████████████████████████████████████████████████████████████████████████████████████████████████████████████████████████████████| 153300/153300 [00:00<00:00, 314330.90it/s]\n",
      "Reading data/small_tep/labels.csv: 100%|██████████████████████████████████████████████████████████████████████████████████████████████████████████████████████████████████████████████████| 153300/153300 [00:00<00:00, 4042086.36it/s]\n",
      "Reading data/small_tep/train_mask.csv: 100%|██████████████████████████████████████████████████████████████████████████████████████████████████████████████████████████████████████████████| 153300/153300 [00:00<00:00, 3785637.85it/s]\n",
      "Reading data/small_tep/test_mask.csv: 100%|███████████████████████████████████████████████████████████████████████████████████████████████████████████████████████████████████████████████| 153300/153300 [00:00<00:00, 3811150.38it/s]\n"
     ]
    }
   ],
   "source": [
    "dataset = FDDDataset(name='small_tep')\n",
    "dataset.df.head()\n",
    "scaler = StandardScaler()\n",
    "scaler.fit(dataset.df[dataset.train_mask])\n",
    "dataset.df[:] = scaler.transform(dataset.df)"
   ]
  },
  {
   "cell_type": "code",
   "execution_count": 5,
   "id": "48343842",
   "metadata": {},
   "outputs": [
    {
     "name": "stderr",
     "output_type": "stream",
     "text": [
      "Creating sequence of samples: 100%|████████████████████████████████████████████████████████████████████████████████████████████████████████████████████████████████████████████████████████████████| 105/105 [00:00<00:00, 3287.17it/s]\n"
     ]
    },
    {
     "data": {
      "application/vnd.jupyter.widget-view+json": {
       "model_id": "c88a48f63c6448cba8d7fbde491b84b6",
       "version_major": 2,
       "version_minor": 0
      },
      "text/plain": [
       "Epochs ...:   0%|          | 0/29 [00:00<?, ?it/s]"
      ]
     },
     "metadata": {},
     "output_type": "display_data"
    },
    {
     "data": {
      "application/vnd.jupyter.widget-view+json": {
       "model_id": "",
       "version_major": 2,
       "version_minor": 0
      },
      "text/plain": [
       "Steps ...:   0%|          | 0/310 [00:00<?, ?it/s]"
      ]
     },
     "metadata": {},
     "output_type": "display_data"
    },
    {
     "name": "stdout",
     "output_type": "stream",
     "text": [
      "Epoch 1, Loss: 1.3173\n"
     ]
    },
    {
     "data": {
      "application/vnd.jupyter.widget-view+json": {
       "model_id": "",
       "version_major": 2,
       "version_minor": 0
      },
      "text/plain": [
       "Steps ...:   0%|          | 0/310 [00:00<?, ?it/s]"
      ]
     },
     "metadata": {},
     "output_type": "display_data"
    },
    {
     "name": "stdout",
     "output_type": "stream",
     "text": [
      "Epoch 2, Loss: 1.0906\n"
     ]
    },
    {
     "data": {
      "application/vnd.jupyter.widget-view+json": {
       "model_id": "",
       "version_major": 2,
       "version_minor": 0
      },
      "text/plain": [
       "Steps ...:   0%|          | 0/310 [00:00<?, ?it/s]"
      ]
     },
     "metadata": {},
     "output_type": "display_data"
    },
    {
     "name": "stdout",
     "output_type": "stream",
     "text": [
      "Epoch 3, Loss: 1.0539\n"
     ]
    },
    {
     "data": {
      "application/vnd.jupyter.widget-view+json": {
       "model_id": "",
       "version_major": 2,
       "version_minor": 0
      },
      "text/plain": [
       "Steps ...:   0%|          | 0/310 [00:00<?, ?it/s]"
      ]
     },
     "metadata": {},
     "output_type": "display_data"
    },
    {
     "name": "stdout",
     "output_type": "stream",
     "text": [
      "Epoch 4, Loss: 1.0364\n"
     ]
    },
    {
     "data": {
      "application/vnd.jupyter.widget-view+json": {
       "model_id": "",
       "version_major": 2,
       "version_minor": 0
      },
      "text/plain": [
       "Steps ...:   0%|          | 0/310 [00:00<?, ?it/s]"
      ]
     },
     "metadata": {},
     "output_type": "display_data"
    },
    {
     "name": "stdout",
     "output_type": "stream",
     "text": [
      "Epoch 5, Loss: 1.0252\n"
     ]
    },
    {
     "data": {
      "application/vnd.jupyter.widget-view+json": {
       "model_id": "",
       "version_major": 2,
       "version_minor": 0
      },
      "text/plain": [
       "Steps ...:   0%|          | 0/310 [00:00<?, ?it/s]"
      ]
     },
     "metadata": {},
     "output_type": "display_data"
    },
    {
     "name": "stdout",
     "output_type": "stream",
     "text": [
      "Epoch 6, Loss: 1.0173\n"
     ]
    },
    {
     "data": {
      "application/vnd.jupyter.widget-view+json": {
       "model_id": "",
       "version_major": 2,
       "version_minor": 0
      },
      "text/plain": [
       "Steps ...:   0%|          | 0/310 [00:00<?, ?it/s]"
      ]
     },
     "metadata": {},
     "output_type": "display_data"
    },
    {
     "name": "stdout",
     "output_type": "stream",
     "text": [
      "Epoch 7, Loss: 1.0111\n"
     ]
    },
    {
     "data": {
      "application/vnd.jupyter.widget-view+json": {
       "model_id": "",
       "version_major": 2,
       "version_minor": 0
      },
      "text/plain": [
       "Steps ...:   0%|          | 0/310 [00:00<?, ?it/s]"
      ]
     },
     "metadata": {},
     "output_type": "display_data"
    },
    {
     "name": "stdout",
     "output_type": "stream",
     "text": [
      "Epoch 8, Loss: 1.0062\n"
     ]
    },
    {
     "data": {
      "application/vnd.jupyter.widget-view+json": {
       "model_id": "",
       "version_major": 2,
       "version_minor": 0
      },
      "text/plain": [
       "Steps ...:   0%|          | 0/310 [00:00<?, ?it/s]"
      ]
     },
     "metadata": {},
     "output_type": "display_data"
    },
    {
     "name": "stdout",
     "output_type": "stream",
     "text": [
      "Epoch 9, Loss: 1.0022\n"
     ]
    },
    {
     "data": {
      "application/vnd.jupyter.widget-view+json": {
       "model_id": "",
       "version_major": 2,
       "version_minor": 0
      },
      "text/plain": [
       "Steps ...:   0%|          | 0/310 [00:00<?, ?it/s]"
      ]
     },
     "metadata": {},
     "output_type": "display_data"
    },
    {
     "name": "stdout",
     "output_type": "stream",
     "text": [
      "Epoch 10, Loss: 0.9986\n"
     ]
    },
    {
     "data": {
      "application/vnd.jupyter.widget-view+json": {
       "model_id": "",
       "version_major": 2,
       "version_minor": 0
      },
      "text/plain": [
       "Steps ...:   0%|          | 0/310 [00:00<?, ?it/s]"
      ]
     },
     "metadata": {},
     "output_type": "display_data"
    },
    {
     "name": "stdout",
     "output_type": "stream",
     "text": [
      "Epoch 11, Loss: 0.9954\n"
     ]
    },
    {
     "data": {
      "application/vnd.jupyter.widget-view+json": {
       "model_id": "",
       "version_major": 2,
       "version_minor": 0
      },
      "text/plain": [
       "Steps ...:   0%|          | 0/310 [00:00<?, ?it/s]"
      ]
     },
     "metadata": {},
     "output_type": "display_data"
    },
    {
     "name": "stdout",
     "output_type": "stream",
     "text": [
      "Epoch 12, Loss: 0.9926\n"
     ]
    },
    {
     "data": {
      "application/vnd.jupyter.widget-view+json": {
       "model_id": "",
       "version_major": 2,
       "version_minor": 0
      },
      "text/plain": [
       "Steps ...:   0%|          | 0/310 [00:00<?, ?it/s]"
      ]
     },
     "metadata": {},
     "output_type": "display_data"
    },
    {
     "name": "stdout",
     "output_type": "stream",
     "text": [
      "Epoch 13, Loss: 0.9901\n"
     ]
    },
    {
     "data": {
      "application/vnd.jupyter.widget-view+json": {
       "model_id": "",
       "version_major": 2,
       "version_minor": 0
      },
      "text/plain": [
       "Steps ...:   0%|          | 0/310 [00:00<?, ?it/s]"
      ]
     },
     "metadata": {},
     "output_type": "display_data"
    },
    {
     "name": "stdout",
     "output_type": "stream",
     "text": [
      "Epoch 14, Loss: 0.9877\n"
     ]
    },
    {
     "data": {
      "application/vnd.jupyter.widget-view+json": {
       "model_id": "",
       "version_major": 2,
       "version_minor": 0
      },
      "text/plain": [
       "Steps ...:   0%|          | 0/310 [00:00<?, ?it/s]"
      ]
     },
     "metadata": {},
     "output_type": "display_data"
    },
    {
     "name": "stdout",
     "output_type": "stream",
     "text": [
      "Epoch 15, Loss: 0.9856\n"
     ]
    },
    {
     "data": {
      "application/vnd.jupyter.widget-view+json": {
       "model_id": "",
       "version_major": 2,
       "version_minor": 0
      },
      "text/plain": [
       "Steps ...:   0%|          | 0/310 [00:00<?, ?it/s]"
      ]
     },
     "metadata": {},
     "output_type": "display_data"
    },
    {
     "name": "stdout",
     "output_type": "stream",
     "text": [
      "Epoch 16, Loss: 0.9836\n"
     ]
    },
    {
     "data": {
      "application/vnd.jupyter.widget-view+json": {
       "model_id": "",
       "version_major": 2,
       "version_minor": 0
      },
      "text/plain": [
       "Steps ...:   0%|          | 0/310 [00:00<?, ?it/s]"
      ]
     },
     "metadata": {},
     "output_type": "display_data"
    },
    {
     "name": "stdout",
     "output_type": "stream",
     "text": [
      "Epoch 17, Loss: 0.9817\n"
     ]
    },
    {
     "data": {
      "application/vnd.jupyter.widget-view+json": {
       "model_id": "",
       "version_major": 2,
       "version_minor": 0
      },
      "text/plain": [
       "Steps ...:   0%|          | 0/310 [00:00<?, ?it/s]"
      ]
     },
     "metadata": {},
     "output_type": "display_data"
    },
    {
     "name": "stdout",
     "output_type": "stream",
     "text": [
      "Epoch 18, Loss: 0.9800\n"
     ]
    },
    {
     "data": {
      "application/vnd.jupyter.widget-view+json": {
       "model_id": "",
       "version_major": 2,
       "version_minor": 0
      },
      "text/plain": [
       "Steps ...:   0%|          | 0/310 [00:00<?, ?it/s]"
      ]
     },
     "metadata": {},
     "output_type": "display_data"
    },
    {
     "name": "stdout",
     "output_type": "stream",
     "text": [
      "Epoch 19, Loss: 0.9784\n"
     ]
    },
    {
     "data": {
      "application/vnd.jupyter.widget-view+json": {
       "model_id": "",
       "version_major": 2,
       "version_minor": 0
      },
      "text/plain": [
       "Steps ...:   0%|          | 0/310 [00:00<?, ?it/s]"
      ]
     },
     "metadata": {},
     "output_type": "display_data"
    },
    {
     "name": "stdout",
     "output_type": "stream",
     "text": [
      "Epoch 20, Loss: 0.9769\n"
     ]
    },
    {
     "data": {
      "application/vnd.jupyter.widget-view+json": {
       "model_id": "",
       "version_major": 2,
       "version_minor": 0
      },
      "text/plain": [
       "Steps ...:   0%|          | 0/310 [00:00<?, ?it/s]"
      ]
     },
     "metadata": {},
     "output_type": "display_data"
    },
    {
     "name": "stdout",
     "output_type": "stream",
     "text": [
      "Epoch 21, Loss: 0.9754\n"
     ]
    },
    {
     "data": {
      "application/vnd.jupyter.widget-view+json": {
       "model_id": "",
       "version_major": 2,
       "version_minor": 0
      },
      "text/plain": [
       "Steps ...:   0%|          | 0/310 [00:00<?, ?it/s]"
      ]
     },
     "metadata": {},
     "output_type": "display_data"
    },
    {
     "name": "stdout",
     "output_type": "stream",
     "text": [
      "Epoch 22, Loss: 0.9741\n"
     ]
    },
    {
     "data": {
      "application/vnd.jupyter.widget-view+json": {
       "model_id": "",
       "version_major": 2,
       "version_minor": 0
      },
      "text/plain": [
       "Steps ...:   0%|          | 0/310 [00:00<?, ?it/s]"
      ]
     },
     "metadata": {},
     "output_type": "display_data"
    },
    {
     "name": "stdout",
     "output_type": "stream",
     "text": [
      "Epoch 23, Loss: 0.9728\n"
     ]
    },
    {
     "data": {
      "application/vnd.jupyter.widget-view+json": {
       "model_id": "",
       "version_major": 2,
       "version_minor": 0
      },
      "text/plain": [
       "Steps ...:   0%|          | 0/310 [00:00<?, ?it/s]"
      ]
     },
     "metadata": {},
     "output_type": "display_data"
    },
    {
     "name": "stdout",
     "output_type": "stream",
     "text": [
      "Epoch 24, Loss: 0.9716\n"
     ]
    },
    {
     "data": {
      "application/vnd.jupyter.widget-view+json": {
       "model_id": "",
       "version_major": 2,
       "version_minor": 0
      },
      "text/plain": [
       "Steps ...:   0%|          | 0/310 [00:00<?, ?it/s]"
      ]
     },
     "metadata": {},
     "output_type": "display_data"
    },
    {
     "name": "stdout",
     "output_type": "stream",
     "text": [
      "Epoch 25, Loss: 0.9704\n"
     ]
    },
    {
     "data": {
      "application/vnd.jupyter.widget-view+json": {
       "model_id": "",
       "version_major": 2,
       "version_minor": 0
      },
      "text/plain": [
       "Steps ...:   0%|          | 0/310 [00:00<?, ?it/s]"
      ]
     },
     "metadata": {},
     "output_type": "display_data"
    },
    {
     "name": "stdout",
     "output_type": "stream",
     "text": [
      "Epoch 26, Loss: 0.9695\n"
     ]
    },
    {
     "data": {
      "application/vnd.jupyter.widget-view+json": {
       "model_id": "",
       "version_major": 2,
       "version_minor": 0
      },
      "text/plain": [
       "Steps ...:   0%|          | 0/310 [00:00<?, ?it/s]"
      ]
     },
     "metadata": {},
     "output_type": "display_data"
    },
    {
     "name": "stdout",
     "output_type": "stream",
     "text": [
      "Epoch 27, Loss: 0.9684\n"
     ]
    },
    {
     "data": {
      "application/vnd.jupyter.widget-view+json": {
       "model_id": "",
       "version_major": 2,
       "version_minor": 0
      },
      "text/plain": [
       "Steps ...:   0%|          | 0/310 [00:00<?, ?it/s]"
      ]
     },
     "metadata": {},
     "output_type": "display_data"
    },
    {
     "name": "stdout",
     "output_type": "stream",
     "text": [
      "Epoch 28, Loss: 0.9673\n"
     ]
    },
    {
     "data": {
      "application/vnd.jupyter.widget-view+json": {
       "model_id": "",
       "version_major": 2,
       "version_minor": 0
      },
      "text/plain": [
       "Steps ...:   0%|          | 0/310 [00:00<?, ?it/s]"
      ]
     },
     "metadata": {},
     "output_type": "display_data"
    },
    {
     "name": "stdout",
     "output_type": "stream",
     "text": [
      "Epoch 29, Loss: 0.9664\n"
     ]
    }
   ],
   "source": [
    "window_size = 10\n",
    "\n",
    "fddmodel = LinearModel(\n",
    "        window_size=window_size,\n",
    "        step_size=1,\n",
    "        num_epochs=29,\n",
    "        batch_size=166,\n",
    "        lr=0.004209,\n",
    "    )\n",
    "fddmodel.fit(dataset)"
   ]
  },
  {
   "cell_type": "code",
   "execution_count": 6,
   "id": "7c24fd64",
   "metadata": {},
   "outputs": [
    {
     "name": "stderr",
     "output_type": "stream",
     "text": [
      "Creating sequence of samples: 100%|████████████████████████████████████████████████████████████████████████████████████████████████████████████████████████████████████████████████████████████████| 105/105 [00:00<00:00, 2820.09it/s]\n"
     ]
    },
    {
     "name": "stdout",
     "output_type": "stream",
     "text": [
      "FDD metrics\n",
      "-----------------\n",
      "TPR/FPR:\n",
      "    Fault 01: 0.9822/0.0000\n",
      "    Fault 02: 0.9835/0.0002\n",
      "    Fault 03: 0.0048/0.0000\n",
      "    Fault 04: 0.9792/0.0000\n",
      "    Fault 05: 0.9807/0.0000\n",
      "    Fault 06: 0.8586/0.0000\n",
      "    Fault 07: 0.9990/0.0000\n",
      "    Fault 08: 0.5304/0.0001\n",
      "    Fault 09: 0.0000/0.0000\n",
      "    Fault 10: 0.0033/0.0000\n",
      "    Fault 11: 0.0008/0.0000\n",
      "    Fault 12: 0.2518/0.0000\n",
      "    Fault 13: 0.3577/0.0007\n",
      "    Fault 14: 0.0045/0.0000\n",
      "    Fault 15: 0.0000/0.0000\n",
      "    Fault 16: 0.0075/0.0000\n",
      "    Fault 17: 0.9419/0.0000\n",
      "    Fault 18: 0.8711/0.0000\n",
      "    Fault 19: 0.0180/0.0000\n",
      "    Fault 20: 0.8000/0.0000\n",
      "Detection TPR: 0.5638\n",
      "Detection FPR: 0.0009\n",
      "Average Detection Delay (ADD): 88.99\n",
      "Total Correct Diagnosis Rate (Total CDR): 0.8492\n",
      "\n",
      "Clustering metrics\n",
      "-----------------\n",
      "Adjusted Rand Index (ARI): 0.2473\n",
      "Normalized Mutual Information (NMI): 0.6308\n",
      "Unsupervised Clustering Accuracy (ACC): 0.5823\n"
     ]
    }
   ],
   "source": [
    "test_loader = FDDDataloader(\n",
    "    dataframe=dataset.df,\n",
    "    mask=dataset.test_mask,\n",
    "    labels=dataset.labels,\n",
    "    window_size=window_size,\n",
    "    step_size=1,\n",
    ")\n",
    "for sample, index, label in test_loader:\n",
    "    pred = fddmodel.predict(sample)\n",
    "pred = pd.Series(pred, index=index, name='pred')\n",
    "\n",
    "evaluator = FDDEvaluator(step_size=1)\n",
    "evaluator.print_metrics(label, pred)"
   ]
  },
  {
   "cell_type": "markdown",
   "id": "1e63b2da",
   "metadata": {},
   "source": [
    "#### FPR 0.09% CDR 84%\n"
   ]
  },
  {
   "cell_type": "markdown",
   "id": "f071f70d",
   "metadata": {},
   "source": [
    "P"
   ]
  },
  {
   "cell_type": "code",
   "execution_count": 7,
   "id": "70981006",
   "metadata": {},
   "outputs": [],
   "source": [
    "attack = PGDAttack(model=fddmodel, eps=0.01)\n",
    "for sample, index, label in test_loader:\n",
    "    _sample = torch.FloatTensor(sample)\n",
    "    _label = torch.LongTensor(label.values)\n",
    "adv_sample = attack.attack(_sample, _label)"
   ]
  },
  {
   "cell_type": "code",
   "execution_count": 8,
   "id": "9f0b41c1",
   "metadata": {},
   "outputs": [
    {
     "data": {
      "image/png": "[encoded data removed]",
      "text/plain": [
       "<Figure size 1000x1000 with 52 Axes>"
      ]
     },
     "metadata": {},
     "output_type": "display_data"
    }
   ],
   "source": [
    "plt.figure(figsize=(10, 10))\n",
    "for i in range(52):\n",
    "    plt.subplot(8, 8, i+1)\n",
    "    plt.title(dataset.df.columns[i])\n",
    "    plt.plot(adv_sample.numpy()[0, :, i], label='adversarial')\n",
    "    plt.plot(sample[0, :, i], label='real')\n",
    "    plt.axis('off')\n",
    "    plt.ylim(sample[0].min(), sample[0].max())\n",
    "plt.legend(loc='upper left', bbox_to_anchor=(1, 1))\n",
    "plt.show()"
   ]
  },
  {
   "cell_type": "code",
   "execution_count": 9,
   "id": "2b30aa1f",
   "metadata": {},
   "outputs": [
    {
     "name": "stdout",
     "output_type": "stream",
     "text": [
      "FDD metrics\n",
      "-----------------\n",
      "TPR/FPR:\n",
      "    Fault 01: 0.9607/0.0000\n",
      "    Fault 02: 0.9807/0.0039\n",
      "    Fault 03: 0.0000/0.0175\n",
      "    Fault 04: 0.9166/0.0000\n",
      "    Fault 05: 0.9642/0.0001\n",
      "    Fault 06: 0.8516/0.0000\n",
      "    Fault 07: 0.9985/0.0000\n",
      "    Fault 08: 0.4103/0.0044\n",
      "    Fault 09: 0.0000/0.0000\n",
      "    Fault 10: 0.0000/0.0000\n",
      "    Fault 11: 0.0000/0.0000\n",
      "    Fault 12: 0.1572/0.0019\n",
      "    Fault 13: 0.2736/0.0096\n",
      "    Fault 14: 0.0018/0.0000\n",
      "    Fault 15: 0.0000/0.0000\n",
      "    Fault 16: 0.0005/0.0000\n",
      "    Fault 17: 0.9317/0.0004\n",
      "    Fault 18: 0.8611/0.0002\n",
      "    Fault 19: 0.0038/0.0001\n",
      "    Fault 20: 0.7254/0.0039\n",
      "Detection TPR: 0.5597\n",
      "Detection FPR: 0.0420\n",
      "Average Detection Delay (ADD): 53.78\n",
      "Total Correct Diagnosis Rate (Total CDR): 0.8073\n",
      "\n",
      "Clustering metrics\n",
      "-----------------\n",
      "Adjusted Rand Index (ARI): 0.2268\n",
      "Normalized Mutual Information (NMI): 0.5838\n",
      "Unsupervised Clustering Accuracy (ACC): 0.5565\n"
     ]
    }
   ],
   "source": [
    "pred = fddmodel.predict(adv_sample)\n",
    "pred = pd.Series(pred, index=index, name='pred')\n",
    "\n",
    "evaluator = FDDEvaluator(step_size=1)\n",
    "evaluator.print_metrics(label, pred)"
   ]
  },
  {
   "cell_type": "markdown",
   "id": "79e6d5b5",
   "metadata": {},
   "source": [
    "### FP от 0.04%  подскочила до 4% следовательно атака аботает"
   ]
  },
  {
   "cell_type": "code",
   "execution_count": null,
   "id": "980b0471",
   "metadata": {},
   "outputs": [],
   "source": []
  }
 ],
 "metadata": {
  "kernelspec": {
   "display_name": "Python 3 (ipykernel)",
   "language": "python",
   "name": "python3"
  },
  "language_info": {
   "codemirror_mode": {
    "name": "ipython",
    "version": 3
   },
   "file_extension": ".py",
   "mimetype": "text/x-python",
   "name": "python",
   "nbconvert_exporter": "python",
   "pygments_lexer": "ipython3",
   "version": "3.7.12"
  }
 },
 "nbformat": 4,
 "nbformat_minor": 5
}
