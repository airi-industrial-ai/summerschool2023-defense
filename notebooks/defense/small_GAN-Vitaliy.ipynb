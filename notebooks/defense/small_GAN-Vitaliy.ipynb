{
 "cells": [
  {
   "cell_type": "code",
   "execution_count": 8,
   "id": "3a8117e6",
   "metadata": {},
   "outputs": [
    {
     "name": "stdout",
     "output_type": "stream",
     "text": [
      "Collecting horovod\n",
      "  Downloading horovod-0.28.1.tar.gz (3.5 MB)\n",
      "     |████████████████████████████████| 3.5 MB 1.8 MB/s            \n",
      "\u001b[?25h  Preparing metadata (setup.py) ... \u001b[?25ldone\n",
      "\u001b[?25hRequirement already satisfied: cloudpickle in /home/user/conda/lib/python3.7/site-packages (from horovod) (2.0.0)\n",
      "Requirement already satisfied: psutil in /home/user/conda/lib/python3.7/site-packages (from horovod) (5.9.0)\n",
      "Requirement already satisfied: pyyaml in /home/user/conda/lib/python3.7/site-packages (from horovod) (6.0)\n",
      "Requirement already satisfied: packaging in /home/user/conda/lib/python3.7/site-packages (from horovod) (21.3)\n",
      "Requirement already satisfied: cffi>=1.4.0 in /home/user/conda/lib/python3.7/site-packages (from horovod) (1.15.0)\n",
      "Requirement already satisfied: pycparser in /home/user/conda/lib/python3.7/site-packages (from cffi>=1.4.0->horovod) (2.21)\n",
      "Requirement already satisfied: pyparsing!=3.0.5,>=2.0.2 in /home/user/conda/lib/python3.7/site-packages (from packaging->horovod) (3.0.7)\n",
      "Building wheels for collected packages: horovod\n",
      "  Building wheel for horovod (setup.py) ... \u001b[?25ldone\n",
      "\u001b[?25h  Created wheel for horovod: filename=horovod-0.28.1-cp37-cp37m-linux_x86_64.whl size=16362224 sha256=8a30a51133c998ecdac925d948c8535c1245d49330b349d1c30bcf63f6bdf329\n",
      "  Stored in directory: /tmp/pip-ephem-wheel-cache-cooadwoe/wheels/75/bf/bf/1131c00d74352837272d3a176b5c32ed602a4010137cbbbd72\n",
      "Successfully built horovod\n",
      "Installing collected packages: horovod\n",
      "Successfully installed horovod-0.28.1\n",
      "Note: you may need to restart the kernel to use updated packages.\n"
     ]
    }
   ],
   "source": [
    "pip install --no-cache-dir horovod"
   ]
  },
  {
   "cell_type": "code",
   "execution_count": 45,
   "id": "48604920",
   "metadata": {},
   "outputs": [],
   "source": [
    "import pandas as pd\n",
    "import numpy as np\n",
    "from sklearn.preprocessing import StandardScaler\n",
    "import matplotlib.pyplot as plt\n",
    "import torch\n",
    "from torch.utils.data import DataLoader\n",
    "from pytorch_lightning import Trainer\n",
    "import requests\n",
    "\n",
    "from ectutorial.data import SlidingWindowDataset, get_ett_dataset\n",
    "from ectutorial.gen_models import TCNGANModule\n",
    "from ectutorial.plot import plot_pair_fake_val, plot_risk\n",
    "from ectutorial.wcr import calculate_worst_case_risk\n",
    "from fddbenchmark import FDDDataset, FDDDataloader, FDDEvaluator\n",
    "from fdd_defense.attacks import FGSMAttack, PGDAttack, DeepfoolLinfAttack, NoiseAttack\n",
    "from fdd_defense.models.base import BaseTorchModel\n",
    "from fdd_defense.models import MLP\n",
    "import torch.nn as nn\n",
    "import torch.nn.functional as F\n",
    "from torch.optim import Adam"
   ]
  },
  {
   "cell_type": "code",
   "execution_count": 2,
   "id": "eb1ee003",
   "metadata": {},
   "outputs": [
    {
     "name": "stderr",
     "output_type": "stream",
     "text": [
      "Reading data/small_tep/dataset.csv: 100%|██████████| 153300/153300 [00:01<00:00, 114943.54it/s]\n",
      "Reading data/small_tep/labels.csv: 100%|██████████| 153300/153300 [00:00<00:00, 1318319.90it/s]\n",
      "Reading data/small_tep/train_mask.csv: 100%|██████████| 153300/153300 [00:00<00:00, 1262070.00it/s]\n",
      "Reading data/small_tep/test_mask.csv: 100%|██████████| 153300/153300 [00:00<00:00, 1280103.05it/s]\n"
     ]
    },
    {
     "data": {
      "text/html": [
       "<div>\n",
       "<style scoped>\n",
       "    .dataframe tbody tr th:only-of-type {\n",
       "        vertical-align: middle;\n",
       "    }\n",
       "\n",
       "    .dataframe tbody tr th {\n",
       "        vertical-align: top;\n",
       "    }\n",
       "\n",
       "    .dataframe thead th {\n",
       "        text-align: right;\n",
       "    }\n",
       "</style>\n",
       "<table border=\"1\" class=\"dataframe\">\n",
       "  <thead>\n",
       "    <tr style=\"text-align: right;\">\n",
       "      <th></th>\n",
       "      <th></th>\n",
       "      <th>xmeas_1</th>\n",
       "      <th>xmeas_2</th>\n",
       "      <th>xmeas_3</th>\n",
       "      <th>xmeas_4</th>\n",
       "      <th>xmeas_5</th>\n",
       "      <th>xmeas_6</th>\n",
       "      <th>xmeas_7</th>\n",
       "      <th>xmeas_8</th>\n",
       "      <th>xmeas_9</th>\n",
       "      <th>xmeas_10</th>\n",
       "      <th>...</th>\n",
       "      <th>xmv_2</th>\n",
       "      <th>xmv_3</th>\n",
       "      <th>xmv_4</th>\n",
       "      <th>xmv_5</th>\n",
       "      <th>xmv_6</th>\n",
       "      <th>xmv_7</th>\n",
       "      <th>xmv_8</th>\n",
       "      <th>xmv_9</th>\n",
       "      <th>xmv_10</th>\n",
       "      <th>xmv_11</th>\n",
       "    </tr>\n",
       "    <tr>\n",
       "      <th>run_id</th>\n",
       "      <th>sample</th>\n",
       "      <th></th>\n",
       "      <th></th>\n",
       "      <th></th>\n",
       "      <th></th>\n",
       "      <th></th>\n",
       "      <th></th>\n",
       "      <th></th>\n",
       "      <th></th>\n",
       "      <th></th>\n",
       "      <th></th>\n",
       "      <th></th>\n",
       "      <th></th>\n",
       "      <th></th>\n",
       "      <th></th>\n",
       "      <th></th>\n",
       "      <th></th>\n",
       "      <th></th>\n",
       "      <th></th>\n",
       "      <th></th>\n",
       "      <th></th>\n",
       "      <th></th>\n",
       "    </tr>\n",
       "  </thead>\n",
       "  <tbody>\n",
       "    <tr>\n",
       "      <th rowspan=\"5\" valign=\"top\">413402073</th>\n",
       "      <th>1</th>\n",
       "      <td>0.25038</td>\n",
       "      <td>3674.0</td>\n",
       "      <td>4529.0</td>\n",
       "      <td>9.2320</td>\n",
       "      <td>26.889</td>\n",
       "      <td>42.402</td>\n",
       "      <td>2704.3</td>\n",
       "      <td>74.863</td>\n",
       "      <td>120.41</td>\n",
       "      <td>0.33818</td>\n",
       "      <td>...</td>\n",
       "      <td>53.744</td>\n",
       "      <td>24.657</td>\n",
       "      <td>62.544</td>\n",
       "      <td>22.137</td>\n",
       "      <td>39.935</td>\n",
       "      <td>42.323</td>\n",
       "      <td>47.757</td>\n",
       "      <td>47.510</td>\n",
       "      <td>41.258</td>\n",
       "      <td>18.447</td>\n",
       "    </tr>\n",
       "    <tr>\n",
       "      <th>2</th>\n",
       "      <td>0.25109</td>\n",
       "      <td>3659.4</td>\n",
       "      <td>4556.6</td>\n",
       "      <td>9.4264</td>\n",
       "      <td>26.721</td>\n",
       "      <td>42.576</td>\n",
       "      <td>2705.0</td>\n",
       "      <td>75.000</td>\n",
       "      <td>120.41</td>\n",
       "      <td>0.33620</td>\n",
       "      <td>...</td>\n",
       "      <td>53.414</td>\n",
       "      <td>24.588</td>\n",
       "      <td>59.259</td>\n",
       "      <td>22.084</td>\n",
       "      <td>40.176</td>\n",
       "      <td>38.554</td>\n",
       "      <td>43.692</td>\n",
       "      <td>47.427</td>\n",
       "      <td>41.359</td>\n",
       "      <td>17.194</td>\n",
       "    </tr>\n",
       "    <tr>\n",
       "      <th>3</th>\n",
       "      <td>0.25038</td>\n",
       "      <td>3660.3</td>\n",
       "      <td>4477.8</td>\n",
       "      <td>9.4426</td>\n",
       "      <td>26.875</td>\n",
       "      <td>42.070</td>\n",
       "      <td>2706.2</td>\n",
       "      <td>74.771</td>\n",
       "      <td>120.42</td>\n",
       "      <td>0.33563</td>\n",
       "      <td>...</td>\n",
       "      <td>54.357</td>\n",
       "      <td>24.666</td>\n",
       "      <td>61.275</td>\n",
       "      <td>22.380</td>\n",
       "      <td>40.244</td>\n",
       "      <td>38.990</td>\n",
       "      <td>46.699</td>\n",
       "      <td>47.468</td>\n",
       "      <td>41.199</td>\n",
       "      <td>20.530</td>\n",
       "    </tr>\n",
       "    <tr>\n",
       "      <th>4</th>\n",
       "      <td>0.24977</td>\n",
       "      <td>3661.3</td>\n",
       "      <td>4512.1</td>\n",
       "      <td>9.4776</td>\n",
       "      <td>26.758</td>\n",
       "      <td>42.063</td>\n",
       "      <td>2707.2</td>\n",
       "      <td>75.224</td>\n",
       "      <td>120.39</td>\n",
       "      <td>0.33553</td>\n",
       "      <td>...</td>\n",
       "      <td>53.946</td>\n",
       "      <td>24.725</td>\n",
       "      <td>59.856</td>\n",
       "      <td>22.277</td>\n",
       "      <td>40.257</td>\n",
       "      <td>38.072</td>\n",
       "      <td>47.541</td>\n",
       "      <td>47.658</td>\n",
       "      <td>41.643</td>\n",
       "      <td>18.089</td>\n",
       "    </tr>\n",
       "    <tr>\n",
       "      <th>5</th>\n",
       "      <td>0.29405</td>\n",
       "      <td>3679.0</td>\n",
       "      <td>4497.0</td>\n",
       "      <td>9.3381</td>\n",
       "      <td>26.889</td>\n",
       "      <td>42.650</td>\n",
       "      <td>2705.1</td>\n",
       "      <td>75.388</td>\n",
       "      <td>120.39</td>\n",
       "      <td>0.32632</td>\n",
       "      <td>...</td>\n",
       "      <td>53.658</td>\n",
       "      <td>28.797</td>\n",
       "      <td>60.717</td>\n",
       "      <td>21.947</td>\n",
       "      <td>39.144</td>\n",
       "      <td>41.955</td>\n",
       "      <td>47.645</td>\n",
       "      <td>47.346</td>\n",
       "      <td>41.507</td>\n",
       "      <td>18.461</td>\n",
       "    </tr>\n",
       "  </tbody>\n",
       "</table>\n",
       "<p>5 rows × 52 columns</p>\n",
       "</div>"
      ],
      "text/plain": [
       "                  xmeas_1  xmeas_2  xmeas_3  xmeas_4  xmeas_5  xmeas_6  \\\n",
       "run_id    sample                                                         \n",
       "413402073 1       0.25038   3674.0   4529.0   9.2320   26.889   42.402   \n",
       "          2       0.25109   3659.4   4556.6   9.4264   26.721   42.576   \n",
       "          3       0.25038   3660.3   4477.8   9.4426   26.875   42.070   \n",
       "          4       0.24977   3661.3   4512.1   9.4776   26.758   42.063   \n",
       "          5       0.29405   3679.0   4497.0   9.3381   26.889   42.650   \n",
       "\n",
       "                  xmeas_7  xmeas_8  xmeas_9  xmeas_10  ...   xmv_2   xmv_3  \\\n",
       "run_id    sample                                       ...                   \n",
       "413402073 1        2704.3   74.863   120.41   0.33818  ...  53.744  24.657   \n",
       "          2        2705.0   75.000   120.41   0.33620  ...  53.414  24.588   \n",
       "          3        2706.2   74.771   120.42   0.33563  ...  54.357  24.666   \n",
       "          4        2707.2   75.224   120.39   0.33553  ...  53.946  24.725   \n",
       "          5        2705.1   75.388   120.39   0.32632  ...  53.658  28.797   \n",
       "\n",
       "                   xmv_4   xmv_5   xmv_6   xmv_7   xmv_8   xmv_9  xmv_10  \\\n",
       "run_id    sample                                                           \n",
       "413402073 1       62.544  22.137  39.935  42.323  47.757  47.510  41.258   \n",
       "          2       59.259  22.084  40.176  38.554  43.692  47.427  41.359   \n",
       "          3       61.275  22.380  40.244  38.990  46.699  47.468  41.199   \n",
       "          4       59.856  22.277  40.257  38.072  47.541  47.658  41.643   \n",
       "          5       60.717  21.947  39.144  41.955  47.645  47.346  41.507   \n",
       "\n",
       "                  xmv_11  \n",
       "run_id    sample          \n",
       "413402073 1       18.447  \n",
       "          2       17.194  \n",
       "          3       20.530  \n",
       "          4       18.089  \n",
       "          5       18.461  \n",
       "\n",
       "[5 rows x 52 columns]"
      ]
     },
     "execution_count": 2,
     "metadata": {},
     "output_type": "execute_result"
    }
   ],
   "source": [
    "dataset = FDDDataset(name='small_tep')\n",
    "dataset.df.head()"
   ]
  },
  {
   "cell_type": "code",
   "execution_count": 3,
   "id": "5e0e079d",
   "metadata": {},
   "outputs": [],
   "source": [
    "scaler = StandardScaler()\n",
    "scaler.fit(dataset.df[dataset.train_mask])\n",
    "dataset.df[:] = scaler.transform(dataset.df)"
   ]
  },
  {
   "cell_type": "code",
   "execution_count": 4,
   "id": "5b60096c",
   "metadata": {},
   "outputs": [
    {
     "data": {
      "text/html": [
       "<div>\n",
       "<style scoped>\n",
       "    .dataframe tbody tr th:only-of-type {\n",
       "        vertical-align: middle;\n",
       "    }\n",
       "\n",
       "    .dataframe tbody tr th {\n",
       "        vertical-align: top;\n",
       "    }\n",
       "\n",
       "    .dataframe thead th {\n",
       "        text-align: right;\n",
       "    }\n",
       "</style>\n",
       "<table border=\"1\" class=\"dataframe\">\n",
       "  <thead>\n",
       "    <tr style=\"text-align: right;\">\n",
       "      <th></th>\n",
       "      <th></th>\n",
       "      <th>xmeas_1</th>\n",
       "      <th>xmeas_2</th>\n",
       "      <th>xmeas_3</th>\n",
       "      <th>xmeas_4</th>\n",
       "      <th>xmeas_5</th>\n",
       "      <th>xmeas_6</th>\n",
       "      <th>xmeas_7</th>\n",
       "      <th>xmeas_8</th>\n",
       "      <th>xmeas_9</th>\n",
       "      <th>xmeas_10</th>\n",
       "      <th>...</th>\n",
       "      <th>xmv_2</th>\n",
       "      <th>xmv_3</th>\n",
       "      <th>xmv_4</th>\n",
       "      <th>xmv_5</th>\n",
       "      <th>xmv_6</th>\n",
       "      <th>xmv_7</th>\n",
       "      <th>xmv_8</th>\n",
       "      <th>xmv_9</th>\n",
       "      <th>xmv_10</th>\n",
       "      <th>xmv_11</th>\n",
       "    </tr>\n",
       "    <tr>\n",
       "      <th>run_id</th>\n",
       "      <th>sample</th>\n",
       "      <th></th>\n",
       "      <th></th>\n",
       "      <th></th>\n",
       "      <th></th>\n",
       "      <th></th>\n",
       "      <th></th>\n",
       "      <th></th>\n",
       "      <th></th>\n",
       "      <th></th>\n",
       "      <th></th>\n",
       "      <th></th>\n",
       "      <th></th>\n",
       "      <th></th>\n",
       "      <th></th>\n",
       "      <th></th>\n",
       "      <th></th>\n",
       "      <th></th>\n",
       "      <th></th>\n",
       "      <th></th>\n",
       "      <th></th>\n",
       "      <th></th>\n",
       "    </tr>\n",
       "  </thead>\n",
       "  <tbody>\n",
       "    <tr>\n",
       "      <th rowspan=\"5\" valign=\"top\">413402073</th>\n",
       "      <th>1</th>\n",
       "      <td>-0.089143</td>\n",
       "      <td>0.264405</td>\n",
       "      <td>0.236224</td>\n",
       "      <td>-0.401718</td>\n",
       "      <td>-0.065059</td>\n",
       "      <td>0.161746</td>\n",
       "      <td>-0.205368</td>\n",
       "      <td>-0.052990</td>\n",
       "      <td>0.137588</td>\n",
       "      <td>-0.095616</td>\n",
       "      <td>...</td>\n",
       "      <td>-0.066463</td>\n",
       "      <td>-0.289009</td>\n",
       "      <td>-0.057907</td>\n",
       "      <td>0.002977</td>\n",
       "      <td>-0.024498</td>\n",
       "      <td>1.415088</td>\n",
       "      <td>0.538157</td>\n",
       "      <td>-0.175181</td>\n",
       "      <td>-0.126519</td>\n",
       "      <td>-0.029363</td>\n",
       "    </tr>\n",
       "    <tr>\n",
       "      <th>2</th>\n",
       "      <td>-0.084244</td>\n",
       "      <td>-0.097819</td>\n",
       "      <td>0.500445</td>\n",
       "      <td>0.224017</td>\n",
       "      <td>-0.789993</td>\n",
       "      <td>0.760022</td>\n",
       "      <td>-0.195283</td>\n",
       "      <td>0.061410</td>\n",
       "      <td>0.137588</td>\n",
       "      <td>-0.119259</td>\n",
       "      <td>...</td>\n",
       "      <td>-0.162221</td>\n",
       "      <td>-0.292479</td>\n",
       "      <td>-0.549265</td>\n",
       "      <td>-0.003867</td>\n",
       "      <td>-0.004712</td>\n",
       "      <td>0.150295</td>\n",
       "      <td>-1.176649</td>\n",
       "      <td>-0.180156</td>\n",
       "      <td>-0.116522</td>\n",
       "      <td>-0.308372</td>\n",
       "    </tr>\n",
       "    <tr>\n",
       "      <th>3</th>\n",
       "      <td>-0.089143</td>\n",
       "      <td>-0.075490</td>\n",
       "      <td>-0.253925</td>\n",
       "      <td>0.276162</td>\n",
       "      <td>-0.125470</td>\n",
       "      <td>-0.979790</td>\n",
       "      <td>-0.177996</td>\n",
       "      <td>-0.129814</td>\n",
       "      <td>0.278441</td>\n",
       "      <td>-0.126065</td>\n",
       "      <td>...</td>\n",
       "      <td>0.111416</td>\n",
       "      <td>-0.288557</td>\n",
       "      <td>-0.247719</td>\n",
       "      <td>0.034353</td>\n",
       "      <td>0.000871</td>\n",
       "      <td>0.296607</td>\n",
       "      <td>0.091844</td>\n",
       "      <td>-0.177699</td>\n",
       "      <td>-0.132359</td>\n",
       "      <td>0.434464</td>\n",
       "    </tr>\n",
       "    <tr>\n",
       "      <th>4</th>\n",
       "      <td>-0.093352</td>\n",
       "      <td>-0.050680</td>\n",
       "      <td>0.074436</td>\n",
       "      <td>0.388820</td>\n",
       "      <td>-0.630335</td>\n",
       "      <td>-1.003859</td>\n",
       "      <td>-0.163589</td>\n",
       "      <td>0.248459</td>\n",
       "      <td>-0.144118</td>\n",
       "      <td>-0.127259</td>\n",
       "      <td>...</td>\n",
       "      <td>-0.007847</td>\n",
       "      <td>-0.285590</td>\n",
       "      <td>-0.459968</td>\n",
       "      <td>0.021053</td>\n",
       "      <td>0.001938</td>\n",
       "      <td>-0.011453</td>\n",
       "      <td>0.447038</td>\n",
       "      <td>-0.166310</td>\n",
       "      <td>-0.088411</td>\n",
       "      <td>-0.109080</td>\n",
       "    </tr>\n",
       "    <tr>\n",
       "      <th>5</th>\n",
       "      <td>0.212176</td>\n",
       "      <td>0.388454</td>\n",
       "      <td>-0.070119</td>\n",
       "      <td>-0.060203</td>\n",
       "      <td>-0.065059</td>\n",
       "      <td>1.014461</td>\n",
       "      <td>-0.193843</td>\n",
       "      <td>0.385406</td>\n",
       "      <td>-0.144118</td>\n",
       "      <td>-0.237233</td>\n",
       "      <td>...</td>\n",
       "      <td>-0.091418</td>\n",
       "      <td>-0.080814</td>\n",
       "      <td>-0.331183</td>\n",
       "      <td>-0.021556</td>\n",
       "      <td>-0.089439</td>\n",
       "      <td>1.291595</td>\n",
       "      <td>0.490910</td>\n",
       "      <td>-0.185012</td>\n",
       "      <td>-0.101873</td>\n",
       "      <td>-0.026246</td>\n",
       "    </tr>\n",
       "  </tbody>\n",
       "</table>\n",
       "<p>5 rows × 52 columns</p>\n",
       "</div>"
      ],
      "text/plain": [
       "                   xmeas_1   xmeas_2   xmeas_3   xmeas_4   xmeas_5   xmeas_6  \\\n",
       "run_id    sample                                                               \n",
       "413402073 1      -0.089143  0.264405  0.236224 -0.401718 -0.065059  0.161746   \n",
       "          2      -0.084244 -0.097819  0.500445  0.224017 -0.789993  0.760022   \n",
       "          3      -0.089143 -0.075490 -0.253925  0.276162 -0.125470 -0.979790   \n",
       "          4      -0.093352 -0.050680  0.074436  0.388820 -0.630335 -1.003859   \n",
       "          5       0.212176  0.388454 -0.070119 -0.060203 -0.065059  1.014461   \n",
       "\n",
       "                   xmeas_7   xmeas_8   xmeas_9  xmeas_10  ...     xmv_2  \\\n",
       "run_id    sample                                          ...             \n",
       "413402073 1      -0.205368 -0.052990  0.137588 -0.095616  ... -0.066463   \n",
       "          2      -0.195283  0.061410  0.137588 -0.119259  ... -0.162221   \n",
       "          3      -0.177996 -0.129814  0.278441 -0.126065  ...  0.111416   \n",
       "          4      -0.163589  0.248459 -0.144118 -0.127259  ... -0.007847   \n",
       "          5      -0.193843  0.385406 -0.144118 -0.237233  ... -0.091418   \n",
       "\n",
       "                     xmv_3     xmv_4     xmv_5     xmv_6     xmv_7     xmv_8  \\\n",
       "run_id    sample                                                               \n",
       "413402073 1      -0.289009 -0.057907  0.002977 -0.024498  1.415088  0.538157   \n",
       "          2      -0.292479 -0.549265 -0.003867 -0.004712  0.150295 -1.176649   \n",
       "          3      -0.288557 -0.247719  0.034353  0.000871  0.296607  0.091844   \n",
       "          4      -0.285590 -0.459968  0.021053  0.001938 -0.011453  0.447038   \n",
       "          5      -0.080814 -0.331183 -0.021556 -0.089439  1.291595  0.490910   \n",
       "\n",
       "                     xmv_9    xmv_10    xmv_11  \n",
       "run_id    sample                                \n",
       "413402073 1      -0.175181 -0.126519 -0.029363  \n",
       "          2      -0.180156 -0.116522 -0.308372  \n",
       "          3      -0.177699 -0.132359  0.434464  \n",
       "          4      -0.166310 -0.088411 -0.109080  \n",
       "          5      -0.185012 -0.101873 -0.026246  \n",
       "\n",
       "[5 rows x 52 columns]"
      ]
     },
     "execution_count": 4,
     "metadata": {},
     "output_type": "execute_result"
    }
   ],
   "source": [
    "dataset.df.head()"
   ]
  },
  {
   "cell_type": "code",
   "execution_count": 8,
   "id": "b50bda0b",
   "metadata": {},
   "outputs": [
    {
     "data": {
      "text/plain": [
       "153300"
      ]
     },
     "execution_count": 8,
     "metadata": {},
     "output_type": "execute_result"
    }
   ],
   "source": [
    "len(dataset.df.index)"
   ]
  },
  {
   "cell_type": "code",
   "execution_count": 755,
   "id": "8cb194c2",
   "metadata": {},
   "outputs": [],
   "source": [
    "gan = TCNGANModule.load_from_checkpoint(\n",
    "    checkpoint_path='chk_29.07.ckpt',\n",
    "    latent_dim=8,\n",
    "    target_dim=len(dataset.df.columns),\n",
    "    hidden_dim=256,\n",
    "    num_layers=4,\n",
    "    lr=0.00240\n",
    ")"
   ]
  },
  {
   "cell_type": "code",
   "execution_count": 756,
   "id": "6d78d369",
   "metadata": {},
   "outputs": [],
   "source": [
    "seq_len = 10\n",
    "fake = gan.sample(seq_len, temp=0.1)"
   ]
  },
  {
   "cell_type": "markdown",
   "id": "e784450c",
   "metadata": {},
   "source": [
    "### Defense GAN"
   ]
  },
  {
   "cell_type": "code",
   "execution_count": 768,
   "id": "cc87628a",
   "metadata": {},
   "outputs": [],
   "source": [
    "R = 1000\n",
    "z = torch.randn(R, seq_len, 8)\n",
    "z.requires_grad = True"
   ]
  },
  {
   "cell_type": "code",
   "execution_count": 769,
   "id": "a49081c6",
   "metadata": {},
   "outputs": [
    {
     "name": "stderr",
     "output_type": "stream",
     "text": [
      "Creating sequence of samples: 100%|██████████| 105/105 [00:00<00:00, 703.46it/s]\n"
     ]
    }
   ],
   "source": [
    "window_size = 10\n",
    "test_loader = FDDDataloader(\n",
    "    dataframe=dataset.df,\n",
    "    mask=dataset.test_mask,\n",
    "    labels=dataset.labels,\n",
    "    window_size=window_size,\n",
    "    step_size=1,\n",
    ")"
   ]
  },
  {
   "cell_type": "code",
   "execution_count": 770,
   "id": "92f2b161",
   "metadata": {},
   "outputs": [
    {
     "data": {
      "text/plain": [
       "torch.Size([1, 10, 52])"
      ]
     },
     "execution_count": 770,
     "metadata": {},
     "output_type": "execute_result"
    }
   ],
   "source": [
    "for batch, _, _ in test_loader:\n",
    "    break\n",
    "sample = batch[[0]]\n",
    "sample = torch.FloatTensor(sample)\n",
    "sample.shape"
   ]
  },
  {
   "cell_type": "code",
   "execution_count": 771,
   "id": "a89c03b0",
   "metadata": {},
   "outputs": [],
   "source": [
    "optim = Adam([z], lr=0.1)"
   ]
  },
  {
   "cell_type": "code",
   "execution_count": 772,
   "id": "0bf66dc0",
   "metadata": {},
   "outputs": [],
   "source": [
    "from tqdm.auto import trange"
   ]
  },
  {
   "cell_type": "code",
   "execution_count": 773,
   "id": "0aafe7a3",
   "metadata": {},
   "outputs": [],
   "source": [
    "gan.to('cuda');\n",
    "z = z.to('cuda')\n",
    "sample = sample.to('cuda')"
   ]
  },
  {
   "cell_type": "code",
   "execution_count": 774,
   "id": "023af6ed",
   "metadata": {},
   "outputs": [
    {
     "data": {
      "application/vnd.jupyter.widget-view+json": {
       "model_id": "3e72963e15954ddfbbcb03f013aa9e58",
       "version_major": 2,
       "version_minor": 0
      },
      "text/plain": [
       "  0%|          | 0/100 [00:00<?, ?it/s]"
      ]
     },
     "metadata": {},
     "output_type": "display_data"
    }
   ],
   "source": [
    "for i in trange(100):\n",
    "    \n",
    "    fake = gan.gen(z)[..., 0]\n",
    "    loss = torch.mean((sample - fake)**2)\n",
    "    optim.zero_grad()\n",
    "    loss.backward()\n",
    "    optim.step()"
   ]
  },
  {
   "cell_type": "code",
   "execution_count": 788,
   "id": "7e50d547",
   "metadata": {},
   "outputs": [],
   "source": [
    "upd_fake = gan.gen(z)[..., 0]\n"
   ]
  },
  {
   "cell_type": "code",
   "execution_count": 789,
   "id": "50e7b3c4",
   "metadata": {},
   "outputs": [],
   "source": [
    "\n",
    "best_id = torch.min(\n",
    "    ((sample - upd_fake)**2).mean(dim=(1, 2))\n",
    ")\n"
   ]
  },
  {
   "cell_type": "code",
   "execution_count": 790,
   "id": "86c7e2c3",
   "metadata": {},
   "outputs": [],
   "source": [
    "a=[]\n",
    "for i in range(1000):\n",
    "    a.append(np.mean((upd_fake[i].detach().cpu().numpy()[:,1] - sample.cpu().numpy()[0, :,1])**2))\n",
    "best_id_i=np.array(a).argmin()"
   ]
  },
  {
   "cell_type": "code",
   "execution_count": 791,
   "id": "84aaa202",
   "metadata": {},
   "outputs": [
    {
     "name": "stdout",
     "output_type": "stream",
     "text": [
      "tensor(0.2569, device='cuda:0', grad_fn=<MinBackward1>) 792\n"
     ]
    }
   ],
   "source": [
    "print(best_id, best_id_i)"
   ]
  },
  {
   "cell_type": "markdown",
   "id": "f129314a",
   "metadata": {},
   "source": [
    "решил вручную перепроверить аргмин, а он наебал"
   ]
  },
  {
   "cell_type": "code",
   "execution_count": 793,
   "id": "6a2d9b79",
   "metadata": {},
   "outputs": [],
   "source": [
    "best_fake = upd_fake[best_id_i]"
   ]
  },
  {
   "cell_type": "code",
   "execution_count": 794,
   "id": "e58d0bb5",
   "metadata": {},
   "outputs": [
    {
     "data": {
      "text/plain": [
       "torch.Size([10, 52])"
      ]
     },
     "execution_count": 794,
     "metadata": {},
     "output_type": "execute_result"
    }
   ],
   "source": [
    "best_fake.shape"
   ]
  },
  {
   "cell_type": "code",
   "execution_count": 795,
   "id": "6ddc3c2c",
   "metadata": {},
   "outputs": [],
   "source": [
    "#plt.plot(upd_fake[0].detach().cpu().numpy()[:, 1]);"
   ]
  },
  {
   "cell_type": "code",
   "execution_count": 796,
   "id": "3254de6d",
   "metadata": {},
   "outputs": [],
   "source": [
    "#plt.plot(best_fake.detach().cpu().numpy()[:, 1]);"
   ]
  },
  {
   "cell_type": "code",
   "execution_count": 797,
   "id": "dfa297a4",
   "metadata": {},
   "outputs": [],
   "source": [
    "#plt.plot(sample.cpu().numpy()[0, :, 1]);"
   ]
  },
  {
   "cell_type": "code",
   "execution_count": 798,
   "id": "b56fac91",
   "metadata": {},
   "outputs": [
    {
     "data": {
      "image/png": "[encoded data removed]",
      "text/plain": [
       "<Figure size 432x288 with 1 Axes>"
      ]
     },
     "metadata": {
      "needs_background": "light"
     },
     "output_type": "display_data"
    }
   ],
   "source": [
    "plt.plot(sample.cpu().numpy()[0, :, 1],'b-',best_fake.detach().cpu().numpy()[:, 1],'g-');\n",
    "plt.legend(['sample','fake']);"
   ]
  },
  {
   "cell_type": "code",
   "execution_count": 799,
   "id": "ee94fd51",
   "metadata": {},
   "outputs": [
    {
     "data": {
      "text/plain": [
       "0.16692969"
      ]
     },
     "execution_count": 799,
     "metadata": {},
     "output_type": "execute_result"
    }
   ],
   "source": [
    "np.mean((best_fake.detach().cpu().numpy()[:, 1] - sample.cpu().numpy()[0, :, 1])**2)"
   ]
  },
  {
   "cell_type": "markdown",
   "id": "ba69af66",
   "metadata": {},
   "source": [
    "# upd_fake[0] иногда лучше best_fake"
   ]
  },
  {
   "cell_type": "code",
   "execution_count": null,
   "id": "aaea2d6a",
   "metadata": {},
   "outputs": [],
   "source": []
  }
 ],
 "metadata": {
  "colab": {
   "provenance": []
  },
  "kernelspec": {
   "display_name": "Python 3 (ipykernel)",
   "language": "python",
   "name": "python3"
  },
  "language_info": {
   "codemirror_mode": {
    "name": "ipython",
    "version": 3
   },
   "file_extension": ".py",
   "mimetype": "text/x-python",
   "name": "python",
   "nbconvert_exporter": "python",
   "pygments_lexer": "ipython3",
   "version": "3.7.12"
  }
 },
 "nbformat": 4,
 "nbformat_minor": 5
}
